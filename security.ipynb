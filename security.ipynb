{
 "cells": [
  {
   "cell_type": "code",
   "execution_count": 23,
   "metadata": {},
   "outputs": [],
   "source": [
    "import numpy as np\n",
    "\n",
    "def ComputeValue(M):\n",
    "    M = np.array(M)\n",
    "    \n",
    "    ps = np.linspace(0, 1, 101)  \n",
    "    best_value = -np.inf\n",
    "    best_p = 0\n",
    "    for p in ps:\n",
    "        payoff_col1 = p * M[0, 0] + (1 - p) * M[1, 0]\n",
    "        payoff_col2 = p * M[0, 1] + (1 - p) * M[1, 1]\n",
    "        security_value = min(payoff_col1, payoff_col2)  #col want to minimize\n",
    "        if security_value > best_value: #row want to find the maximum\n",
    "            best_value = security_value\n",
    "            best_p = p\n",
    "    P1 = np.array([best_p, 1 - best_p])\n",
    "    V1 = best_value\n",
    "\n",
    "\n",
    "    qs = np.linspace(0, 1, 101)\n",
    "    best_value2 = np.inf\n",
    "    best_q = 0\n",
    "    for q in qs:\n",
    "        payoff_row1 = q * M[0, 0] + (1 - q) * M[0, 1]\n",
    "        payoff_row2 = q * M[1, 0] + (1 - q) * M[1, 1]\n",
    "        security_value2 = max(payoff_row1, payoff_row2)  #row want to maximize\n",
    "        if security_value2 < best_value2: #col want to find the minimum\n",
    "            best_value2 = security_value2\n",
    "            best_q = q\n",
    "    P2 = np.array([best_q, 1 - best_q])\n",
    "    V2 = best_value2\n",
    "\n",
    "    return P1, P2, V1, V2\n"
   ]
  },
  {
   "cell_type": "markdown",
   "metadata": {},
   "source": [
    "1."
   ]
  },
  {
   "cell_type": "code",
   "execution_count": 24,
   "metadata": {},
   "outputs": [
    {
     "name": "stdout",
     "output_type": "stream",
     "text": [
      "M: \n",
      " [[1 3]\n",
      " [4 2]]\n",
      "P1: [0.5 0.5]\n",
      "V1: 2.5\n",
      "P2: [0.25 0.75]\n",
      "V2: 2.5\n"
     ]
    }
   ],
   "source": [
    "M = np.array([[1, 3],[4, 2]])\n",
    "\n",
    "P1, P2, V1, V2 = ComputeValue(M)\n",
    "print(\"M:\",\"\\n\",M)\n",
    "print(\"P1:\", P1)\n",
    "print(\"V1:\", V1)\n",
    "print(\"P2:\", P2)\n",
    "print(\"V2:\", V2)\n"
   ]
  },
  {
   "cell_type": "markdown",
   "metadata": {},
   "source": [
    "2.   \n",
    "M1 solution"
   ]
  },
  {
   "cell_type": "code",
   "execution_count": 25,
   "metadata": {},
   "outputs": [
    {
     "name": "stdout",
     "output_type": "stream",
     "text": [
      "M1: \n",
      " [[1 5]\n",
      " [3 2]]\n",
      "P1: [0.2 0.8]\n",
      "V1: 2.6\n",
      "P2: [0.6 0.4]\n",
      "V2: 2.6\n"
     ]
    }
   ],
   "source": [
    "import scipy.io as scio\n",
    "\n",
    "data = scio.loadmat('security_strategy_files\\examples.mat')\n",
    "# print(data.keys())\n",
    "M1 = data['M1']\n",
    "P1, P2, V1, V2 = ComputeValue(M1)\n",
    "print(\"M1:\", \"\\n\", M1)\n",
    "print(\"P1:\", P1)\n",
    "print(\"V1:\", V1)\n",
    "print(\"P2:\", P2)\n",
    "print(\"V2:\", V2)\n"
   ]
  },
  {
   "cell_type": "markdown",
   "metadata": {},
   "source": [
    "M2 solution"
   ]
  },
  {
   "cell_type": "code",
   "execution_count": 26,
   "metadata": {},
   "outputs": [
    {
     "name": "stdout",
     "output_type": "stream",
     "text": [
      "M2: \n",
      " [[7 8]\n",
      " [4 6]]\n",
      "P1: [1. 0.]\n",
      "V1: 7.0\n",
      "P2: [1. 0.]\n",
      "V2: 7.0\n"
     ]
    }
   ],
   "source": [
    "M2 = data['M2']\n",
    "P1, P2, V1, V2 = ComputeValue(M2)\n",
    "print(\"M2:\", \"\\n\", M2)\n",
    "print(\"P1:\", P1)\n",
    "print(\"V1:\", V1)\n",
    "print(\"P2:\", P2)\n",
    "print(\"V2:\", V2)\n"
   ]
  },
  {
   "cell_type": "markdown",
   "metadata": {},
   "source": [
    "M3 solution"
   ]
  },
  {
   "cell_type": "code",
   "execution_count": 27,
   "metadata": {},
   "outputs": [
    {
     "name": "stdout",
     "output_type": "stream",
     "text": [
      "M3: \n",
      " [[7 4]\n",
      " [2 9]]\n",
      "P1: [0.7 0.3]\n",
      "V1: 5.5\n",
      "P2: [0.5 0.5]\n",
      "V2: 5.5\n"
     ]
    }
   ],
   "source": [
    "M3 = data['M3']\n",
    "P1, P2, V1, V2 = ComputeValue(M3)\n",
    "print(\"M3:\", \"\\n\", M3)\n",
    "print(\"P1:\", P1)\n",
    "print(\"V1:\", V1)\n",
    "print(\"P2:\", P2)\n",
    "print(\"V2:\", V2)"
   ]
  },
  {
   "cell_type": "markdown",
   "metadata": {},
   "source": [
    "3.  \n",
    "In M2, both players' mixed security strategy are pure security strategy.  \n",
    "These strategy are dominant compared with other strategy."
   ]
  }
 ],
 "metadata": {
  "kernelspec": {
   "display_name": "py3-optimize",
   "language": "python",
   "name": "python3"
  },
  "language_info": {
   "codemirror_mode": {
    "name": "ipython",
    "version": 3
   },
   "file_extension": ".py",
   "mimetype": "text/x-python",
   "name": "python",
   "nbconvert_exporter": "python",
   "pygments_lexer": "ipython3",
   "version": "3.11.10"
  }
 },
 "nbformat": 4,
 "nbformat_minor": 2
}
